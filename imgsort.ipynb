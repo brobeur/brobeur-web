{
 "metadata": {
  "name": "",
  "signature": "sha256:4a92b78b8a6d91ad57ab5c1fe9507b34dee00b1c6156c624a428f09c18514dec"
 },
 "nbformat": 3,
 "nbformat_minor": 0,
 "worksheets": [
  {
   "cells": [
    {
     "cell_type": "markdown",
     "metadata": {},
     "source": [
      "Adds images in imgs folder into index.html "
     ]
    },
    {
     "cell_type": "markdown",
     "metadata": {},
     "source": [
      "Make a static blog site out of all the ipython notebook repos on github.com/wcmckee. Saves notebooks as rst and then converts the files to static blog. \n",
      "Get Nikola working\n",
      "Test centos7"
     ]
    },
    {
     "cell_type": "code",
     "collapsed": false,
     "input": [
      "ls"
     ],
     "language": "python",
     "metadata": {},
     "outputs": [
      {
       "output_type": "stream",
       "stream": "stdout",
       "text": [
        "\u001b[0m\u001b[01;34mimgs\u001b[0m/  imgsort.ipynb  imgsort.py  index.html  LICENSE  README.md  style.css\r\n"
       ]
      }
     ],
     "prompt_number": 1
    },
    {
     "cell_type": "code",
     "collapsed": false,
     "input": [
      "import bs4"
     ],
     "language": "python",
     "metadata": {},
     "outputs": [
      {
       "ename": "ImportError",
       "evalue": "No module named bs4",
       "output_type": "pyerr",
       "traceback": [
        "\u001b[1;31m---------------------------------------------------------------------------\u001b[0m\n\u001b[1;31mImportError\u001b[0m                               Traceback (most recent call last)",
        "\u001b[1;32m<ipython-input-3-2ab5f7ff4a9e>\u001b[0m in \u001b[0;36m<module>\u001b[1;34m()\u001b[0m\n\u001b[1;32m----> 1\u001b[1;33m \u001b[1;32mimport\u001b[0m \u001b[0mbs4\u001b[0m\u001b[1;33m\u001b[0m\u001b[0m\n\u001b[0m",
        "\u001b[1;31mImportError\u001b[0m: No module named bs4"
       ]
      }
     ],
     "prompt_number": 3
    },
    {
     "cell_type": "code",
     "collapsed": false,
     "input": [
      "lizim = "
     ],
     "language": "python",
     "metadata": {},
     "outputs": [
      {
       "ename": "SyntaxError",
       "evalue": "invalid syntax (<ipython-input-4-95d7bb395ac7>, line 1)",
       "output_type": "pyerr",
       "traceback": [
        "\u001b[1;36m  File \u001b[1;32m\"<ipython-input-4-95d7bb395ac7>\"\u001b[1;36m, line \u001b[1;32m1\u001b[0m\n\u001b[1;33m    lizim =\u001b[0m\n\u001b[1;37m            ^\u001b[0m\n\u001b[1;31mSyntaxError\u001b[0m\u001b[1;31m:\u001b[0m invalid syntax\n"
       ]
      }
     ],
     "prompt_number": 4
    },
    {
     "cell_type": "code",
     "collapsed": false,
     "input": [
      "import os"
     ],
     "language": "python",
     "metadata": {},
     "outputs": [],
     "prompt_number": 5
    },
    {
     "cell_type": "code",
     "collapsed": false,
     "input": [
      "lisim = os.listdir('/home/pi/brobeur-web/imgs')"
     ],
     "language": "python",
     "metadata": {},
     "outputs": [],
     "prompt_number": 6
    },
    {
     "cell_type": "code",
     "collapsed": false,
     "input": [
      "lisim"
     ],
     "language": "python",
     "metadata": {},
     "outputs": [
      {
       "metadata": {},
       "output_type": "pyout",
       "prompt_number": 7,
       "text": [
        "['hell3.png',\n",
        " 'artctrl.png',\n",
        " 'logo.png',\n",
        " 'shark2.png',\n",
        " 'artctrllogo.png',\n",
        " 'warp.jpg',\n",
        " 'lana.png',\n",
        " 'statue.png',\n",
        " 'multi.png',\n",
        " 'partymoon.png',\n",
        " 'statue3.png',\n",
        " 'brobeur.png',\n",
        " 'triger-big.png',\n",
        " 'girl.jpg',\n",
        " 'triger.png',\n",
        " 'party.png',\n",
        " '.directory',\n",
        " 'warp.png',\n",
        " 'girl-dig.png']"
       ]
      }
     ],
     "prompt_number": 7
    },
    {
     "cell_type": "code",
     "collapsed": false,
     "input": [
      "filwan = []"
     ],
     "language": "python",
     "metadata": {},
     "outputs": [],
     "prompt_number": 9
    },
    {
     "cell_type": "code",
     "collapsed": false,
     "input": [
      "dig cean ba4c053b67db73f90a2eff2fabcddb5f13812689334d8ea87d8b9e4d5e50e0fb"
     ],
     "language": "python",
     "metadata": {},
     "outputs": []
    },
    {
     "cell_type": "code",
     "collapsed": false,
     "input": [
      "for im in lisim:\n",
      "    if 'png' or 'jpg' in im:\n",
      "        filwan.append(im)"
     ],
     "language": "python",
     "metadata": {},
     "outputs": [],
     "prompt_number": 10
    },
    {
     "cell_type": "code",
     "collapsed": false,
     "input": [
      "filwan"
     ],
     "language": "python",
     "metadata": {},
     "outputs": [
      {
       "metadata": {},
       "output_type": "pyout",
       "prompt_number": 11,
       "text": [
        "['hell3.png',\n",
        " 'artctrl.png',\n",
        " 'logo.png',\n",
        " 'shark2.png',\n",
        " 'artctrllogo.png',\n",
        " 'warp.jpg',\n",
        " 'lana.png',\n",
        " 'statue.png',\n",
        " 'multi.png',\n",
        " 'partymoon.png',\n",
        " 'statue3.png',\n",
        " 'brobeur.png',\n",
        " 'triger-big.png',\n",
        " 'girl.jpg',\n",
        " 'triger.png',\n",
        " 'party.png',\n",
        " '.directory',\n",
        " 'warp.png',\n",
        " 'girl-dig.png']"
       ]
      }
     ],
     "prompt_number": 11
    },
    {
     "cell_type": "code",
     "collapsed": false,
     "input": [],
     "language": "python",
     "metadata": {},
     "outputs": []
    }
   ],
   "metadata": {}
  }
 ]
}