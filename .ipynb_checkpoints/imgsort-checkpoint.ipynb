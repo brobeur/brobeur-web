{
 "metadata": {
  "name": "",
  "signature": "sha256:d37e9d96ac9b4fd5ec94b2a7beebcd7db639b588ff51caabd1a3cd795d9b3c4b"
 },
 "nbformat": 3,
 "nbformat_minor": 0,
 "worksheets": [
  {
   "cells": [
    {
     "cell_type": "markdown",
     "metadata": {},
     "source": [
      "Adds images in imgs folder into index.html "
     ]
    },
    {
     "cell_type": "markdown",
     "metadata": {},
     "source": [
      "Make a static blog site out of all the ipython notebook repos on github.com/wcmckee. Saves notebooks as rst and then converts the files to static blog. \n",
      "Get Nikola working\n",
      "Test centos7"
     ]
    },
    {
     "cell_type": "code",
     "collapsed": false,
     "input": [
      "ls"
     ],
     "language": "python",
     "metadata": {},
     "outputs": [
      {
       "output_type": "stream",
       "stream": "stdout",
       "text": [
        "\u001b[0m\u001b[01;34mimgs\u001b[0m/  imgsort.ipynb  imgsort.py  index.html  LICENSE  README.md  style.css\r\n"
       ]
      }
     ],
     "prompt_number": 1
    },
    {
     "cell_type": "code",
     "collapsed": false,
     "input": [
      "import bs4"
     ],
     "language": "python",
     "metadata": {},
     "outputs": [
      {
       "ename": "ImportError",
       "evalue": "No module named bs4",
       "output_type": "pyerr",
       "traceback": [
        "\u001b[1;31m---------------------------------------------------------------------------\u001b[0m\n\u001b[1;31mImportError\u001b[0m                               Traceback (most recent call last)",
        "\u001b[1;32m<ipython-input-3-2ab5f7ff4a9e>\u001b[0m in \u001b[0;36m<module>\u001b[1;34m()\u001b[0m\n\u001b[1;32m----> 1\u001b[1;33m \u001b[1;32mimport\u001b[0m \u001b[0mbs4\u001b[0m\u001b[1;33m\u001b[0m\u001b[0m\n\u001b[0m",
        "\u001b[1;31mImportError\u001b[0m: No module named bs4"
       ]
      }
     ],
     "prompt_number": 3
    },
    {
     "cell_type": "code",
     "collapsed": false,
     "input": [
      "lizim = "
     ],
     "language": "python",
     "metadata": {},
     "outputs": [
      {
       "ename": "SyntaxError",
       "evalue": "invalid syntax (<ipython-input-4-95d7bb395ac7>, line 1)",
       "output_type": "pyerr",
       "traceback": [
        "\u001b[1;36m  File \u001b[1;32m\"<ipython-input-4-95d7bb395ac7>\"\u001b[1;36m, line \u001b[1;32m1\u001b[0m\n\u001b[1;33m    lizim =\u001b[0m\n\u001b[1;37m            ^\u001b[0m\n\u001b[1;31mSyntaxError\u001b[0m\u001b[1;31m:\u001b[0m invalid syntax\n"
       ]
      }
     ],
     "prompt_number": 4
    },
    {
     "cell_type": "code",
     "collapsed": false,
     "input": [
      "import os\n",
      "import dominate "
     ],
     "language": "python",
     "metadata": {},
     "outputs": [
      {
       "ename": "ImportError",
       "evalue": "No module named dominate",
       "output_type": "pyerr",
       "traceback": [
        "\u001b[1;31m---------------------------------------------------------------------------\u001b[0m\n\u001b[1;31mImportError\u001b[0m                               Traceback (most recent call last)",
        "\u001b[1;32m<ipython-input-12-e61bd693395f>\u001b[0m in \u001b[0;36m<module>\u001b[1;34m()\u001b[0m\n\u001b[0;32m      1\u001b[0m \u001b[1;32mimport\u001b[0m \u001b[0mos\u001b[0m\u001b[1;33m\u001b[0m\u001b[0m\n\u001b[1;32m----> 2\u001b[1;33m \u001b[1;32mimport\u001b[0m \u001b[0mdominate\u001b[0m\u001b[1;33m\u001b[0m\u001b[0m\n\u001b[0m",
        "\u001b[1;31mImportError\u001b[0m: No module named dominate"
       ]
      }
     ],
     "prompt_number": 12
    },
    {
     "cell_type": "code",
     "collapsed": false,
     "input": [
      "lisim = os.listdir('/home/pi/brobeur-web/imgs')"
     ],
     "language": "python",
     "metadata": {},
     "outputs": [],
     "prompt_number": 6
    },
    {
     "cell_type": "code",
     "collapsed": false,
     "input": [
      "lisim"
     ],
     "language": "python",
     "metadata": {},
     "outputs": [
      {
       "metadata": {},
       "output_type": "pyout",
       "prompt_number": 7,
       "text": [
        "['hell3.png',\n",
        " 'artctrl.png',\n",
        " 'logo.png',\n",
        " 'shark2.png',\n",
        " 'artctrllogo.png',\n",
        " 'warp.jpg',\n",
        " 'lana.png',\n",
        " 'statue.png',\n",
        " 'multi.png',\n",
        " 'partymoon.png',\n",
        " 'statue3.png',\n",
        " 'brobeur.png',\n",
        " 'triger-big.png',\n",
        " 'girl.jpg',\n",
        " 'triger.png',\n",
        " 'party.png',\n",
        " '.directory',\n",
        " 'warp.png',\n",
        " 'girl-dig.png']"
       ]
      }
     ],
     "prompt_number": 7
    },
    {
     "cell_type": "code",
     "collapsed": false,
     "input": [
      "filwan = []"
     ],
     "language": "python",
     "metadata": {},
     "outputs": [],
     "prompt_number": 9
    },
    {
     "cell_type": "code",
     "collapsed": false,
     "input": [
      "dig cean ba4c053b67db73f90a2eff2fabcddb5f13812689334d8ea87d8b9e4d5e50e0fb"
     ],
     "language": "python",
     "metadata": {},
     "outputs": []
    },
    {
     "cell_type": "code",
     "collapsed": false,
     "input": [
      "for im in lisim:\n",
      "    if 'png' or 'jpg' in im:\n",
      "        filwan.append(im)"
     ],
     "language": "python",
     "metadata": {},
     "outputs": [],
     "prompt_number": 10
    },
    {
     "cell_type": "code",
     "collapsed": false,
     "input": [
      "filwan"
     ],
     "language": "python",
     "metadata": {},
     "outputs": [
      {
       "metadata": {},
       "output_type": "pyout",
       "prompt_number": 11,
       "text": [
        "['hell3.png',\n",
        " 'artctrl.png',\n",
        " 'logo.png',\n",
        " 'shark2.png',\n",
        " 'artctrllogo.png',\n",
        " 'warp.jpg',\n",
        " 'lana.png',\n",
        " 'statue.png',\n",
        " 'multi.png',\n",
        " 'partymoon.png',\n",
        " 'statue3.png',\n",
        " 'brobeur.png',\n",
        " 'triger-big.png',\n",
        " 'girl.jpg',\n",
        " 'triger.png',\n",
        " 'party.png',\n",
        " '.directory',\n",
        " 'warp.png',\n",
        " 'girl-dig.png']"
       ]
      }
     ],
     "prompt_number": 11
    },
    {
     "cell_type": "code",
     "collapsed": false,
     "input": [
      "import dominate\n",
      "from dominate.tags import *\n",
      "\n",
      "doc = dominate.document(title='BroBeur Jam 2014')\n",
      "\n",
      "with doc.head:\n",
      "    link(rel='stylesheet', href='style.css')\n",
      "    script(type='text/javascript', src='script.js')\n",
      "\n",
      "with doc:\n",
      "    with div(id='header').add(ol()):\n",
      "        for i in filwan:\n",
      "            (img(a(i.title)(), src='imgs/%s' % i))\n",
      "\n",
      "    with div():\n",
      "        attr(cls='body')\n",
      "        p('Lorem ipsum..')\n",
      "\n",
      "print doc"
     ],
     "language": "python",
     "metadata": {},
     "outputs": [
      {
       "output_type": "stream",
       "stream": "stdout",
       "text": [
        "<!DOCTYPE html>\n",
        "<html>\n",
        "  <head>\n",
        "    <title>BroBeur Studios</title>\n",
        "    <link href=\"style.css\" rel=\"stylesheet\">\n",
        "    <script src=\"script.js\" type=\"text/javascript\"></script>\n",
        "  </head>\n",
        "  <body>\n",
        "    <div id=\"header\">\n",
        "      <ol>\n",
        "        <a></a>\n",
        "        <img src=\"imgs/hell3.png\">\n",
        "        <a></a>\n",
        "        <img src=\"imgs/artctrl.png\">\n",
        "        <a></a>\n",
        "        <img src=\"imgs/logo.png\">\n",
        "        <a></a>\n",
        "        <img src=\"imgs/shark2.png\">\n",
        "        <a></a>\n",
        "        <img src=\"imgs/artctrllogo.png\">\n",
        "        <a></a>\n",
        "        <img src=\"imgs/warp.jpg\">\n",
        "        <a></a>\n",
        "        <img src=\"imgs/lana.png\">\n",
        "        <a></a>\n",
        "        <img src=\"imgs/statue.png\">\n",
        "        <a></a>\n",
        "        <img src=\"imgs/multi.png\">\n",
        "        <a></a>\n",
        "        <img src=\"imgs/partymoon.png\">\n",
        "        <a></a>\n",
        "        <img src=\"imgs/statue3.png\">\n",
        "        <a></a>\n",
        "        <img src=\"imgs/brobeur.png\">\n",
        "        <a></a>\n",
        "        <img src=\"imgs/triger-big.png\">\n",
        "        <a></a>\n",
        "        <img src=\"imgs/girl.jpg\">\n",
        "        <a></a>\n",
        "        <img src=\"imgs/triger.png\">\n",
        "        <a></a>\n",
        "        <img src=\"imgs/party.png\">\n",
        "        <a></a>\n",
        "        <img src=\"imgs/.directory\">\n",
        "        <a></a>\n",
        "        <img src=\"imgs/warp.png\">\n",
        "        <a></a>\n",
        "        <img src=\"imgs/girl-dig.png\">\n",
        "      </ol>\n",
        "    </div>\n",
        "    <div class=\"body\">\n",
        "      <p>Lorem ipsum..</p>\n",
        "    </div>\n",
        "  </body>\n",
        "</html>\n"
       ]
      }
     ],
     "prompt_number": 27
    },
    {
     "cell_type": "code",
     "collapsed": false,
     "input": [
      "import bs2"
     ],
     "language": "python",
     "metadata": {},
     "outputs": [
      {
       "ename": "ImportError",
       "evalue": "No module named bs2",
       "output_type": "pyerr",
       "traceback": [
        "\u001b[1;31m---------------------------------------------------------------------------\u001b[0m\n\u001b[1;31mImportError\u001b[0m                               Traceback (most recent call last)",
        "\u001b[1;32m<ipython-input-33-7fad6cc03aa1>\u001b[0m in \u001b[0;36m<module>\u001b[1;34m()\u001b[0m\n\u001b[1;32m----> 1\u001b[1;33m \u001b[1;32mimport\u001b[0m \u001b[0mbs2\u001b[0m\u001b[1;33m\u001b[0m\u001b[0m\n\u001b[0m",
        "\u001b[1;31mImportError\u001b[0m: No module named bs2"
       ]
      }
     ],
     "prompt_number": 33
    },
    {
     "cell_type": "code",
     "collapsed": false,
     "input": [
      "opind = open('/home/pi/brobeur-web/index.html', 'r')"
     ],
     "language": "python",
     "metadata": {},
     "outputs": [],
     "prompt_number": 31
    },
    {
     "cell_type": "code",
     "collapsed": false,
     "input": [
      "opind.read()"
     ],
     "language": "python",
     "metadata": {},
     "outputs": [
      {
       "metadata": {},
       "output_type": "pyout",
       "prompt_number": 32,
       "text": [
        "'<!DOCTYPE html>\\n<html lang=\"en\">\\n    <head>\\n        <title>BroBeur Studios</title>\\n        <meta charset=\"UTF-8\"/>\\n        <meta name=\"description\" content=\"game development\">\\n        \\n        <link rel=\"stylesheet\" href=\"style.css\">\\n        <link rel=\"icon\" type=\"image/ico\" href=\"favicon.ico\">\\n        \\n        <script src=\"js/jquery-1.9.1.min.js\"></script>\\n        <script src=\"js/jquery.maskedinput.min.js\"></script>\\n        <script src=\"js/page.js\"></script> \\n\\n    </head>\\n    <body><div id=\"top-bar\">\\n            <div id=\"header\">\\n                <div id=\"logo\">\\n                    <a href=\"#home\"><img alt=\"logo\" title=\"logo\" src=\"imgs/brobeur.png\"></a>\\n                </div>\\n                <ul id=\"nav-list\">\\n                    <li class=\"nav-item\" id=\"nav-home\">\\n                        <a href=\"#home\">Home</a>\\n                    </li>\\n                    <li class=\"nav-item\" id=\"nav-about\">\\n                        <a href=\"#about\">About</a>\\n                    </li>\\n                    <li class=\"nav-item\" id=\"nav-details\">\\n                        <a href=\"#details\">Details</a>\\n                    </li>\\n                    <li class=\"nav-item\" id=\"nav-register\">\\n                        <a href=\"#register\">Register</a>\\n                    </li>\\n                    <li class=\"nav-item\" id=\"nav-sponsorship\">\\n                        <a href=\"#sponsorship\">Sponsorship</a>\\n                    </li>\\n                    <li class=\"nav-item\" id=\"nav-contact\">\\n                        <a href=\"#contact\">Contact</a>\\n                    </li>\\n                    <li class=\"nav-item\" id=\"nav-contact\">\\n\\n</form></div> \\n                    </li>\\n                </ul>\\n\\n\\n                    \\n               \\n                </div>\\n            </div>\\n        </div>\\n\\n        <div id=\"main-content\">\\n\\n            <div class=\"content\" id=\"home\">\\n\\n\\n                <img class=\"clothing star\" src=\"images/star/cupid-overlay.png\">\\n               \\n                <p class=\"content-title\">BroBeur Studios</p>  \\n                <a><img alt=\"logo\" title=\"bird\" src=\"imgs/lana.png\"></a>\\n                <p class=\"content-text-highlight\">Video Game Development</p> \\n                <p class=\"content-text\">digital and traditional drawing/painting, concept art, game development</p>\\n                <p class=\"content-text\">Since March 2013</p>\\n                \\n                <a></a><img alt=\"logo\" title=\"partymoon\" src=\"imgs/partymoon.png\"></a>\\n\\n\\n\\n\\n      \\n\\n    \\n                </div>\\n        <div id=\"sponsors\">\\n                <a href=\"#sponsors\" />\\n                    <!--<p class=\"content-text-highlight\">We need your help! Please consider <a href=\"#sponsorship\">joining our amazing team of sponsors</a>:</p>-->\\n                   <p>              </p>\\n                    \\n                    </a>  \\n                    \\n         \\n                </div>        </div>\\n                \\n\\n            </div>\\n            \\n            <div class=\"content\" id=\"about\">\\n                <p  id=\"about2\" class=\"content-title\">About</p>\\n                <p class=\"content-text-highlight\">Everything about BroBeur Studios\\n</p><iframe src=\"//itch.io/embed/9195\" width=\"552\" height=\"167\" frameborder=\"0\"></iframe>\\n\\n            </div>\\n\\n\\n\\n\\n            <div class=\"content\" id=\"details\">\\n                <img class=\"clothing star\" src=\"images/star/scuba-overlay.png\">\\n                <p class=\"content-title\">Details</p>\\n                <p class=\"content-text-highlight\">This is details into some stuff we do</p>\\n               <p class=\"content-text\">we dont do much</p>\\n                 <p class=\"content-text\">but software can be found at <a href=\"https://github.com/brobeur\">BroBeur Github</a> and <a href=\"https://github.com/wcmckee\">wcmckee Github</a>\\n</p>             </div>\\n            \\n            <div class=\"content\" id=\"register\">\\n                <img class=\"clothing star\" src=\"images/star/ninja-overlay.png\">\\n                <p class=\"content-title\">Register</p>\\n                        <p class=\"content-text-highlight\">Here you can Register</p>\\n                        <p class=\"context-text\">Pencil Drawing, Digital Painting, 3d, game design</a></p>\\n                <a></a>\\n                               </div>\\n                \\n            <div class=\"content\" id=\"sponsorship\">\\n                <img class=\"clothing star\" src=\"images/star/space-overlay.png\">\\n                <p class=\"content-title\">Sponsorship</p>\\n                \\n                <p class=\"content-text-highlight\">Interested in sponsorship? Plase get in touch.</p>\\n\\t\\t\\t\\t<li></li><p class=\"content-text-highlight\">artcontrol.me: The Art of William Mckee</p></li> \\n           <p></p>\\n            </div>\\n            \\n              \\n\\n\\n\\n                \\n            <div class=\"content\" id=\"contact\">\\n                <img class=\"clothing star\" src=\"images/star/zombie.png\">\\n                <p class=\"content-title\">Contact</p>\\n                <p class=\"content-text-highlight\">Contact - Email: will@artcontrol.me Twitter: art_control</a></p>\\n   \\n                        </div>\\n                    </div>\\n                </div>\\n            </div>\\n        </div>\\n\\n    </body>\\n</html>\\n'"
       ]
      }
     ],
     "prompt_number": 32
    },
    {
     "cell_type": "code",
     "collapsed": false,
     "input": [],
     "language": "python",
     "metadata": {},
     "outputs": []
    }
   ],
   "metadata": {}
  }
 ]
}