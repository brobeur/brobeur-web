{
 "metadata": {
  "name": "",
  "signature": "sha256:8aa99bfad5699ed115d923f0f53ba90469ce0bea20cfbb804cb17d62318bd3f8"
 },
 "nbformat": 3,
 "nbformat_minor": 0,
 "worksheets": [
  {
   "cells": [
    {
     "cell_type": "markdown",
     "metadata": {},
     "source": [
      "Adds images in imgs folder into index.html "
     ]
    },
    {
     "cell_type": "code",
     "collapsed": false,
     "input": [],
     "language": "python",
     "metadata": {},
     "outputs": []
    }
   ],
   "metadata": {}
  }
 ]
}